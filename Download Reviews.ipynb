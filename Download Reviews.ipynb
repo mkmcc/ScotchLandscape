{
 "cells": [
  {
   "cell_type": "code",
   "execution_count": 22,
   "metadata": {
    "collapsed": true
   },
   "outputs": [],
   "source": [
    "import numpy as np\n",
    "import pandas as pd\n",
    "from collections import Counter"
   ]
  },
  {
   "cell_type": "code",
   "execution_count": null,
   "metadata": {
    "collapsed": true
   },
   "outputs": [],
   "source": [
    "# download latest spreadsheet...\n",
    "archive_url = r'https://docs.google.com/spreadsheets/d/1X1HTxkI6SqsdpNSkSSivMzpxNT-oeTbjFFDdEkXD30o/export?exportFormat=csv'\n",
    "df = pd.read_csv(archive_url)"
   ]
  },
  {
   "cell_type": "code",
   "execution_count": 2,
   "metadata": {
    "collapsed": true
   },
   "outputs": [],
   "source": [
    "# or use the local copy...\n",
    "df = pd.read_csv('archive.csv')"
   ]
  },
  {
   "cell_type": "code",
   "execution_count": 3,
   "metadata": {
    "collapsed": true
   },
   "outputs": [],
   "source": [
    "# find the most prolific reviewers (as a proxy for experience and reliability...)\n",
    "#\n",
    "author_tallies = Counter(df[\"Reviewer's Reddit Username\"])"
   ]
  },
  {
   "cell_type": "code",
   "execution_count": 4,
   "metadata": {},
   "outputs": [
    {
     "data": {
      "text/plain": [
       "[('TOModera', 1236),\n",
       " ('Unclimbability', 556),\n",
       " ('muaddib99', 551),\n",
       " ('HawkI84', 527),\n",
       " ('Shane_IL', 513),\n",
       " ('cake_my_day', 408),\n",
       " ('Texacer', 407),\n",
       " ('I_SAID_NO_GOLDFISH', 399),\n",
       " ('Ethanized', 395),\n",
       " ('devoz', 375)]"
      ]
     },
     "execution_count": 4,
     "metadata": {},
     "output_type": "execute_result"
    }
   ],
   "source": [
    "author_tallies.most_common(10)"
   ]
  },
  {
   "cell_type": "code",
   "execution_count": 5,
   "metadata": {
    "collapsed": true
   },
   "outputs": [],
   "source": [
    "# cull the list down to regions i'm interested in\n",
    "#\n",
    "ind = [ reg in ['Islay', 'Speyside', 'Highland', 'Island'] \n",
    "       for reg in df['Whisky Region or Style'] ]\n",
    "\n",
    "df2 = df.loc[ind]"
   ]
  },
  {
   "cell_type": "code",
   "execution_count": 8,
   "metadata": {
    "collapsed": true
   },
   "outputs": [],
   "source": [
    "# limit the list to whiskies that are well-reviewed\n",
    "#\n",
    "tally = Counter(df2['Whisky Name'])\n",
    "\n",
    "nwhiskies = 200\n",
    "whiskies = [ name for name, count in tally.most_common(nwhiskies) ]"
   ]
  },
  {
   "cell_type": "code",
   "execution_count": 9,
   "metadata": {
    "collapsed": true
   },
   "outputs": [],
   "source": [
    "def get_top_links(whisky, nreviews=5):\n",
    "    \"\"\"return links to the top reviews for whisky\n",
    "    (sorted by reviewer's experience, which I take as a proxy for quality)\"\"\"\n",
    "    \n",
    "    # find all reviews for this whisky\n",
    "    temp = df2.loc[lambda df: df['Whisky Name'] == whisky]\n",
    "\n",
    "    # for each review of *this* whisky, get the total number of reviews\n",
    "    # for *all* whiskies by that reviewer\n",
    "    reviewer_count = np.asarray([ author_tallies[author] \n",
    "                                 for author in temp[\"Reviewer's Reddit Username\"] ] )\n",
    "\n",
    "    # keep only the most nreviews reviews\n",
    "    keep = reviewer_count.argsort()[-nreviews:]\n",
    "\n",
    "    temp = temp.iloc[keep]\n",
    "\n",
    "    # return a list of the urls\n",
    "    return list(temp[\"Link To Reddit Review\"])"
   ]
  },
  {
   "cell_type": "code",
   "execution_count": 10,
   "metadata": {
    "collapsed": true
   },
   "outputs": [],
   "source": [
    "import requests\n",
    "from bs4 import BeautifulSoup"
   ]
  },
  {
   "cell_type": "code",
   "execution_count": 11,
   "metadata": {
    "collapsed": true
   },
   "outputs": [],
   "source": [
    "def download_review(url):\n",
    "    \"\"\"download the reddit review living at url\n",
    "    this is fairly hacky, and i don't think im doing it correctly...\n",
    "    but it seems to work for my purposes\"\"\"\n",
    "    \n",
    "    hdr = {'User-Agent': 'osx:r/Scotch:v0.1 (by /u/db1ac38e)'}\n",
    "    try:\n",
    "        r = requests.get(url, headers=hdr)\n",
    "    except:\n",
    "        print \"invalid link\"\n",
    "        return \"\\n\\n\\n\\n\"\n",
    "\n",
    "    if not r.ok:\n",
    "        raise AssertionError('download request failed with reason ' + r.reason)\n",
    "\n",
    "    soup = BeautifulSoup(r.text, \"html5lib\")\n",
    "\n",
    "    # from here below is hacky, and i'm just guessing at how reddit structures\n",
    "    # its html... may be a better way to do this!\n",
    "    #\n",
    "    # reddit comments seem to be in html divs with class \"entry\"\n",
    "    # \n",
    "    comments = soup.find_all('div', attrs={\"class\":\"entry\"})\n",
    "\n",
    "    result = []\n",
    "    for comment in comments:\n",
    "        # not all comments seem to be \"real\"... keep ones which have a div of class \"usertext-body\"\n",
    "        temp = comment.find_all('div', attrs={\"class\":\"usertext-body\"})\n",
    "        if len(temp) > 0:\n",
    "            # this loop should extend only over 1 item, but i'm not 100% sure i understand how\n",
    "            # reddit's html is structured...\n",
    "            for t in temp:\n",
    "                # now, keep only comments with more than one <p> element:\n",
    "                ps = t.find_all('p')\n",
    "                if len(ps) > 1:\n",
    "                    # convert to text\n",
    "                    strings = [ p.text for p in ps ]\n",
    "                    strings = [ s for s in strings if type(s) != type(None) ]\n",
    "                    result.append(\"\\n\\n\".join(strings))\n",
    "\n",
    "    return \"\\n\\n\\n\\n\".join(result)"
   ]
  },
  {
   "cell_type": "code",
   "execution_count": 137,
   "metadata": {},
   "outputs": [
    {
     "name": "stdout",
     "output_type": "stream",
     "text": [
      "Highland Park 12\n",
      "\n",
      "Highland Park is an Island distillery (from the Isle of Orkney) that’s owned by Edrington, the nice people behind The Macallan, Glenrothes, a little known blend called Famous Grouse, and a few other lesser-known distilleries. This is one of the first bottles I got when I was really getting in to Scotch a few years back, and I quite enjoyed it at the time.\n",
      "\n",
      "12 years old. 43% abv. Probably filtered and colored.\n",
      "\n",
      "Nose - Honey, toffee, vanilla, and peppery-gingery spice are front and center, though lurking behind those notes seem to be some sherried ones - it seems like I can pick up some dark dried fruit, gingerbread, and Mexican chocolate notes in the background. Lightly smoky, with some light coastal/briny notes. As is reputed, has a bit of everything.\n",
      "\n",
      "Taste - Honey, light toffee, vanilla, lemon, seawater, black pepper, ginger, light smoke, dark dried fruit, Mexican chocolate. The notes are listed in order of decreasing prominence - again, the honey and toffee are front and center, but I pick up a bit of everything else lurking behind those.\n",
      "\n",
      "Finish - The honey/toffee theme continues with some lemon, light smoke, brine,  ginger and black pepper. Slightly tangy, with some nice sweet+spice. Not that big, but lasts a while.\n",
      "\n",
      "There’s a reason this is at the middle of the malt map - it’s a jack of all trades, master of none. It is, though, still pretty good at everything it does, and even though it’s something widely available and kind of a beginner malt, I still really enjoy it.\n",
      "\n",
      "88/100\n",
      "\n",
      "Highland Park 18 \n",
      "\n",
      "The older brother of the 12. I got a bottle a few years back for under $100, though that’s just a fond memory now - and why /u/tintin777 was so helpful with the sample.\n",
      "\n",
      "43% abv.\n",
      "\n",
      "Nose - Fairly spice forward - black pepper and ginger especially - with some mild seaweed, smoke, honey, and toffee notes. Maybe some dark chocolate and tobacco too? This one needs time to open up/balance out. Still seems a bit muted with time. Sweet/oceany notes take a backseat to the spice notes with this one. \n",
      "\n",
      "Taste - Salted toffee, honey, vanilla, lemon, black pepper, ginger, light smoke. Very refined, well integrated and well balanced. Medium body. \n",
      "\n",
      "Finish - Lemon, brine, black pepper, light smoke, toffee, vanilla. Spice/seaside/citrus notes are most prominent here, with the sweetness providing a solid backbone. Lingers a good long while, in a way I can sit back and enjoy it after every sip.\n",
      "\n",
      "This is really a nice integration of flavors. That said, it does it in a refined, gentlemanly sort of way, instead of having some characteristics that really jump out and make this memorable in the way that an Ardbeg or sherry bomb Glendronach would. I really like the finish on this one, and is the biggest thing that makes it a marginal improvement on the 12.\n",
      "\n",
      "90/100\n",
      "\n",
      "\n",
      "\n",
      "Yep, the 15 uses American Sherry refill casks. The 12 and 18 Spanish Sherry refill.\n",
      "\n",
      "So the liquor store guy was wrong, no big surprise. \n",
      "\n",
      "So now I need to see what else in my inventory used Am casks vs Sp casks - and whether I like one over the other.\n",
      "\n",
      "Also, HP uses no bourbon casks in spite of what you've (and I) have read or been told. \n",
      "\n",
      "\n",
      "\n",
      "Also, HP uses no bourbon casks in spite of what you've (and I) have read or been told. \n",
      "\n",
      "Source? That'd kind of surprise me, given how ubiquitous bourbon barrels are, and the fact that I've seen bourbon barrel matured HP IB's. I suppose they may fill some at the distillery for Famous Grouse or whatever, though.\n",
      "\n",
      "\n",
      "\n",
      "Check out:\n",
      "\n",
      "Enjoy...\n",
      "\n",
      "\n",
      "\n",
      "HP12 is very good for the price but for x2.5 the price of the 12, the 18 is not worth it.\n",
      "\n",
      "I'd re-buy 18 if it was priced $80 \n"
     ]
    }
   ],
   "source": [
    "print download_review('https://www.reddit.com/r/Scotch/comments/44i3ze/reviews_141142_highland_park_1218/')"
   ]
  },
  {
   "cell_type": "code",
   "execution_count": 12,
   "metadata": {
    "collapsed": true
   },
   "outputs": [],
   "source": [
    "import time\n",
    "import os\n",
    "from textwrap import wrap"
   ]
  },
  {
   "cell_type": "code",
   "execution_count": 13,
   "metadata": {
    "collapsed": true
   },
   "outputs": [],
   "source": [
    "def download_corpus(scotch):\n",
    "    results = []\n",
    "    for url in get_top_links(scotch, nreviews=10):\n",
    "        results.append(download_review(url))\n",
    "        time.sleep(15)\n",
    "    return '\\n\\n\\n\\n'.join(results)"
   ]
  },
  {
   "cell_type": "code",
   "execution_count": 14,
   "metadata": {
    "collapsed": true
   },
   "outputs": [],
   "source": [
    "def create_corpus(scotch):\n",
    "    fname = 'Reviews-2/' + scotch.replace(' ', '-') + '.txt'\n",
    "\n",
    "    if os.path.isfile(fname):\n",
    "        print scotch, 'already present.  skipping.'\n",
    "        return False\n",
    "\n",
    "    print 'downloading reviews for', scotch, '...'\n",
    "    corpus = download_corpus(scotch)\n",
    "\n",
    "    corpus2 = corpus.encode('ascii', 'replace')\n",
    "    with open(fname, 'w') as f:\n",
    "        f.write(corpus2)\n",
    "\n",
    "    return True"
   ]
  },
  {
   "cell_type": "code",
   "execution_count": 21,
   "metadata": {},
   "outputs": [
    {
     "name": "stdout",
     "output_type": "stream",
     "text": [
      "Highland Park Dark Origins already present.  skipping.\n",
      "GlenDronach 18 Allardice already present.  skipping.\n",
      "Laphroaig Cairdeas 2014 Amontillado already present.  skipping.\n",
      "Glenfarclas 10 already present.  skipping.\n",
      "Bruichladdich Black Art 2.2 already present.  skipping.\n",
      "GlenDronach Cask Strength already present.  skipping.\n",
      "Aberlour 18 already present.  skipping.\n",
      "Laphroaig Cairdeas 2012 Origin  already present.  skipping.\n",
      "Highland Park 25 already present.  skipping.\n",
      "Highland Park 15 already present.  skipping.\n",
      "Bowmore 18 already present.  skipping.\n",
      "Finlaggan Old Reserve already present.  skipping.\n",
      "Glenmorangie Signet already present.  skipping.\n",
      "Balvenie 17 Peated Cask already present.  skipping.\n",
      "Glenfiddich 15 Distillery Edition already present.  skipping.\n",
      "Tomatin 18 already present.  skipping.\n",
      "AnCnoc 16 already present.  skipping.\n",
      "Laphroaig Cairdeas 2015 already present.  skipping.\n",
      "Deanston 12 already present.  skipping.\n",
      "Bruichladdich Port Charlotte PC7 Sin an Doigh Ileach already present.  skipping.\n",
      "Laphroaig Cairdeas 2016 Madeira already present.  skipping.\n",
      "Bruichladdich Port Charlotte An Turas Mor already present.  skipping.\n",
      "McClelland Islay already present.  skipping.\n",
      "Bowmore Legend already present.  skipping.\n",
      "Bruichladdich Black Art 3.1 already present.  skipping.\n",
      "Bunnahabhain Toiteach already present.  skipping.\n",
      "Glenfarclas 40 already present.  skipping.\n",
      "Tobermory 15 already present.  skipping.\n",
      "Benrinnes 23 already present.  skipping.\n",
      "Glenlivet 21 Archive already present.  skipping.\n",
      "Glenmorangie Artein already present.  skipping.\n",
      "Arran 12 Cask Strength already present.  skipping.\n",
      "Glengoyne 17 already present.  skipping.\n",
      "downloading reviews for Talisker 25 ...\n",
      "downloading reviews for Lagavulin 12  ...\n",
      "downloading reviews for Glen Garioch Founder's Reserve ...\n",
      "downloading reviews for Bruichladdich Octomore 6.3 ...\n",
      "downloading reviews for Bowmore 15 Laimrig ...\n",
      "downloading reviews for Bruichladdich Port Charlotte 10 ...\n",
      "downloading reviews for Aberlour A'bunadh batch #39 ...\n",
      "invalid link\n",
      "downloading reviews for Bruichladdich Black Art 4.1 ...\n",
      "downloading reviews for Arran Amarone Cask Finish ...\n",
      "downloading reviews for Talisker Distiller's Edition ...\n",
      "downloading reviews for BenRiach 12 ...\n",
      "downloading reviews for Glenfiddich 21 Gran Reserva ...\n",
      "downloading reviews for BenRiach 12 Sherry Matured ...\n",
      "invalid link\n",
      "invalid link\n",
      "invalid link\n",
      "invalid link\n",
      "downloading reviews for Caol Ila 15 Unpeated ...\n",
      "invalid link\n",
      "invalid link\n",
      "invalid link\n",
      "invalid link\n",
      "downloading reviews for Bruichladdich Port Charlotte The Peat Project ...\n",
      "downloading reviews for Jura Prophecy ...\n",
      "downloading reviews for Caol Ila 18 ...\n",
      "downloading reviews for Balvenie Tun 1401 Batch #3 ...\n",
      "downloading reviews for Glen Garioch 12 ...\n",
      "downloading reviews for Bruichladdich Octomore 7.2 ...\n",
      "downloading reviews for Ardbeg Auriverdes ...\n",
      "downloading reviews for Aberlour A'bunadh batch #47 ...\n",
      "downloading reviews for Laphroaig 15 ...\n",
      "downloading reviews for Arran Sauternes Cask Finish ...\n",
      "downloading reviews for Dalmore 1263 King Alexander III ...\n",
      "downloading reviews for Arran Port Cask Finish ...\n",
      "downloading reviews for Deanston Virgin Oak ...\n",
      "downloading reviews for Talisker Port Ruighe ...\n",
      "downloading reviews for Benrinnes 14 AD Rattray Sherry Cask ...\n",
      "downloading reviews for Tomatin 15 ...\n",
      "downloading reviews for Laphroaig Lore ...\n",
      "downloading reviews for Ardbeg Airigh Nam Beist 1990 ...\n",
      "downloading reviews for Macallan 12 ...\n",
      "downloading reviews for Bruichladdich Octomore 6.2 ...\n",
      "downloading reviews for Glenrothes Select Reserve ...\n",
      "downloading reviews for Kilchoman Port Cask Matured ...\n",
      "downloading reviews for Balvenie 17 Madeira Cask ...\n",
      "downloading reviews for Macallan Amber ...\n",
      "downloading reviews for Glenlivet 25 ...\n",
      "downloading reviews for Bruichladdich Octomore 7.3 ...\n",
      "downloading reviews for Bruichladdich Octomore 5.1 ...\n",
      "downloading reviews for Ardbeg Day ...\n",
      "downloading reviews for Kilchoman Madeira Cask ...\n",
      "downloading reviews for Glen Grant 10 ...\n",
      "downloading reviews for Glenfiddich 14 Rich Oak ...\n",
      "downloading reviews for Balvenie 12 Signature ...\n",
      "downloading reviews for Macallan Edition No. 2 ...\n",
      "downloading reviews for Bruichladdich The Organic ...\n",
      "downloading reviews for Macallan Rare Cask ...\n",
      "downloading reviews for Tamdhu 8 Signatory Cask Strength ...\n",
      "downloading reviews for Mortlach 15 Gordon & MacPhail ...\n",
      "downloading reviews for Laphroaig An Cuan Mor ...\n",
      "downloading reviews for Port Ellen 32 12th Release ...\n",
      "downloading reviews for Macallan 12 Fine Oak ...\n",
      "downloading reviews for Kilchoman Sanaig ...\n",
      "downloading reviews for Glenlivet Nàdurra Oloroso ...\n",
      "downloading reviews for Macallan Gold ...\n",
      "downloading reviews for Laphroaig Select ...\n",
      "downloading reviews for Highland Park 15 Loki ...\n",
      "downloading reviews for Glenlivet Founder's Reserve ...\n",
      "downloading reviews for Glenrothes 1998 ...\n",
      "downloading reviews for Macallan Select Oak ...\n",
      "downloading reviews for Lagavulin 1995 Distillers Edition ...\n",
      "downloading reviews for Glengoyne 21 ...\n",
      "invalid link\n",
      "downloading reviews for Glengoyne 18 ...\n",
      "downloading reviews for Lagavulin 1997 Distillers Edition ...\n"
     ]
    }
   ],
   "source": [
    "for whisky in whiskies:\n",
    "    # some have names like 'Ledaig 7 /r/Scotch Community Cask',\n",
    "    # which crashes my stupid program...\n",
    "    if whisky.find('/') == -1:\n",
    "        create_corpus(whisky)"
   ]
  },
  {
   "cell_type": "code",
   "execution_count": null,
   "metadata": {
    "collapsed": true
   },
   "outputs": [],
   "source": []
  }
 ],
 "metadata": {
  "kernelspec": {
   "display_name": "Python 2",
   "language": "python",
   "name": "python2"
  },
  "language_info": {
   "codemirror_mode": {
    "name": "ipython",
    "version": 2
   },
   "file_extension": ".py",
   "mimetype": "text/x-python",
   "name": "python",
   "nbconvert_exporter": "python",
   "pygments_lexer": "ipython2",
   "version": "2.7.14"
  }
 },
 "nbformat": 4,
 "nbformat_minor": 2
}
